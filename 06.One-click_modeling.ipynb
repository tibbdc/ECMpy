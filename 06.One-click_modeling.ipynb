{
 "cells": [
  {
   "cell_type": "code",
   "execution_count": null,
   "id": "235c82a1",
   "metadata": {},
   "outputs": [],
   "source": [
    "conda activate ECMpy2\n",
    "cd userwokplace/ECMpy2.0"
   ]
  },
  {
   "cell_type": "markdown",
   "id": "6bb0878c",
   "metadata": {},
   "source": [
    "# Use AutoPACMEN data to reconstruct ecGEM"
   ]
  },
  {
   "cell_type": "code",
   "execution_count": null,
   "id": "5f8941e2",
   "metadata": {},
   "outputs": [],
   "source": [
    "python ./script/get_ecGEM_onestop.py -m \"./data/iML1515R.xml\" -kcat \"No\" -f \"No\" -bigg  \"./data/bigg_models_metabolites.txt\" -gene_abundance \"./data/gene_abundance.csv\" -tax_id 83333 -org \"Escherichia coli\" -sigma 1 -ptot 0.56 -kcat_method \"AutoPACMEN\" -work_folder \"./analysis/get_kcat_mw\" -brenda \"./data/brenda_2023_1.txt\" -uniprot \"./data/uniprot_data_accession_key.json\" -kcat_gap_fill \"mean\" -r_gap_fill \"mean\" -ecGEM \"./model/ecGEM_autopacmen.json\""
   ]
  },
  {
   "cell_type": "markdown",
   "id": "39e55725",
   "metadata": {},
   "source": [
    "# Use DLKcat data to reconstruct ecGEM"
   ]
  },
  {
   "cell_type": "code",
   "execution_count": null,
   "id": "c3e99083",
   "metadata": {},
   "outputs": [],
   "source": [
    "python ./script/get_ecGEM_onestop.py -m \"./data/iML1515R.xml\" -kcat \"No\" -f \"No\" -bigg  \"./data/bigg_models_metabolites.txt\" -gene_abundance \"./data/gene_abundance.csv\" -tax_id 83333 -sigma 1 -ptot 0.56 -kcat_method \"DLKcat\" -work_folder \"./analysis/get_kcat_mw\"  -ecGEM \"./model/ecGEM_DLKcat.json\""
   ]
  },
  {
   "cell_type": "markdown",
   "id": "1a881b09",
   "metadata": {},
   "source": [
    "# Use user's data to reconstruct ecGEM"
   ]
  },
  {
   "cell_type": "code",
   "execution_count": null,
   "id": "678d1091",
   "metadata": {},
   "outputs": [],
   "source": [
    "python ./script/get_ecGEM_onestop.py -m \"./data/iML1515R.xml\" -kcat \"./data/reaction_kcat_MW_template.csv\" -f 0.405 -bigg  \"./data/bigg_models_metabolites.txt\"  -sigma 1 -ptot 0.56 -ecGEM \"./model/ecGEM_userdata.json\""
   ]
  },
  {
   "cell_type": "code",
   "execution_count": null,
   "id": "c9bfb695",
   "metadata": {},
   "outputs": [],
   "source": [
    "python ./script/get_ecGEM_onestop.py -m \"./data/iML1515R.xml\" -kcat \"./data/reaction_kcat_MW_template.csv\" -f \"No\" -bigg  \"./data/bigg_models_metabolites.txt\"  -gene_abundance \"./data/gene_abundance.csv\" -tax_id 83333 -sigma 1 -ptot 0.56 -ecGEM \"./model/ecGEM_userdata_no_f.json\""
   ]
  }
 ],
 "metadata": {
  "kernelspec": {
   "display_name": "ECMpy2",
   "language": "python",
   "name": "ecmpy2"
  },
  "language_info": {
   "codemirror_mode": {
    "name": "ipython",
    "version": 3
   },
   "file_extension": ".py",
   "mimetype": "text/x-python",
   "name": "python",
   "nbconvert_exporter": "python",
   "pygments_lexer": "ipython3",
   "version": "3.7.12"
  },
  "vscode": {
   "interpreter": {
    "hash": "a6e0d8b250351d3b30989470297d7a84ebc09417abaa29b208c8f69c53951b79"
   }
  }
 },
 "nbformat": 4,
 "nbformat_minor": 5
}
