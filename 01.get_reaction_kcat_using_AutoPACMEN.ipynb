{
 "cells": [
  {
   "attachments": {},
   "cell_type": "markdown",
   "id": "a7928da4",
   "metadata": {},
   "source": [
    "## Import related functions"
   ]
  },
  {
   "cell_type": "code",
   "execution_count": 1,
   "id": "814564ea",
   "metadata": {},
   "outputs": [],
   "source": [
    "import cobra\n",
    "import datetime \n",
    "import sys\n",
    "sys.path.append(r'./script/')\n",
    "from AutoPACMEN_function import *\n",
    "from ECMpy_function import *"
   ]
  },
  {
   "attachments": {},
   "cell_type": "markdown",
   "id": "d3f1a678",
   "metadata": {},
   "source": [
    "## Input and output files"
   ]
  },
  {
   "cell_type": "code",
   "execution_count": 2,
   "id": "4813d2a8",
   "metadata": {},
   "outputs": [
    {
     "name": "stdout",
     "output_type": "stream",
     "text": [
      "Path exists\n"
     ]
    }
   ],
   "source": [
    "# input files\n",
    "autopacmen_folder = \"./analysis/get_kcat_mw_by_AutoPACMEN/\"\n",
    "kcat_gap_fill= 'mean'#'mean'#'median'\n",
    "reaction_gap_fill='mean'\n",
    "sbml_path = \"./data/iML1515R.xml\"\n",
    "organism = \"Escherichia coli\"\n",
    "project_name = \"iML1515_%s\"%kcat_gap_fill\n",
    "create_file(autopacmen_folder)\n",
    "protein_kcat_database_path = \"none\"\n",
    "bigg_metabolites_file = \"./data/bigg_models_metabolites.txt\"#date:20230629 http://bigg.ucsd.edu/static/namespace/bigg_models_metabolites.txt\n",
    "brenda_textfile_path = \"./data/brenda_2023_1.txt\"#date:20230427 https://www.brenda-enzymes.org/brenda_download/file_download.php\n",
    "uniprot_data_file='./data/uniprot_data_accession_key.json'#from uniprot\n",
    "\n",
    "#output files\n",
    "brenda_json_path = \"%skcat_database_brenda.json\"%autopacmen_folder\n",
    "brenda_json_path2 = \"%ssa_database_brenda.json\"%autopacmen_folder\n",
    "sabio_rk_json_path = \"%skcat_database_sabio_rk.json\"%autopacmen_folder\n",
    "bigg_id_name_mapping_path = \"%sbigg_id_name_mapping.json\"%autopacmen_folder\n",
    "brenda_output_json_path = \"%skcat_database_brenda_for_model.json\"%autopacmen_folder\n",
    "combined_output_path = \"%skcat_database_combined.json\"%autopacmen_folder\n",
    "sub_description_path = '%sget_gene_subunitDescription.csv'%autopacmen_folder\n",
    "gene_subnum_path = \"%sgene_subnum.csv\"%autopacmen_folder\n",
    "reaction_mw_path = \"%sreaction_mw.json\"%autopacmen_folder\n",
    "reaction_kcat_mw_path = '%sreaction_kcat_MW.csv'%autopacmen_folder"
   ]
  },
  {
   "attachments": {},
   "cell_type": "markdown",
   "id": "ff793553",
   "metadata": {},
   "source": [
    "## Get reaction kcat_mw using AutoPacmen"
   ]
  },
  {
   "attachments": {},
   "cell_type": "markdown",
   "id": "425b6cfb",
   "metadata": {},
   "source": [
    "## Step 1: get bigg metbolite"
   ]
  },
  {
   "cell_type": "code",
   "execution_count": 3,
   "id": "f36016e1",
   "metadata": {},
   "outputs": [
    {
     "name": "stdout",
     "output_type": "stream",
     "text": [
      "Starting to deal BIGG metabolites text file...\n",
      "BIGG metabolites text file done!\n",
      "\n",
      "0:00:00.073214\n"
     ]
    }
   ],
   "source": [
    "starttime=datetime.datetime.now()\n",
    "# Step 1: get bigg metbolite\n",
    "print(\"Starting to deal BIGG metabolites text file...\")\n",
    "parse_bigg_metabolites_file(bigg_metabolites_file, autopacmen_folder)\n",
    "print(\"BIGG metabolites text file done!\")\n",
    "print()\n",
    "\n",
    "endtime=datetime.datetime.now()\n",
    "print(endtime-starttime)"
   ]
  },
  {
   "attachments": {},
   "cell_type": "markdown",
   "id": "1ef79903",
   "metadata": {},
   "source": [
    "## Step 2: BRENDA kcat"
   ]
  },
  {
   "cell_type": "code",
   "execution_count": 4,
   "id": "b91218de",
   "metadata": {},
   "outputs": [
    {
     "name": "stdout",
     "output_type": "stream",
     "text": [
      "Starting to deal BRENDA textfile...\n",
      "WARNING: BRENDA text file line 3.6.1.34 (transferred to  EC 7.1.2.2, H+-transporting two-sector ATPase) is not interpretable!\n",
      "WARNING: BRENDA text file line 3.6.3.17 (transferred to subgroup EC 7.5.2.) is not interpretable!\n",
      "BRENDA textfile done!\n",
      "\n",
      "0:00:05.697793\n"
     ]
    }
   ],
   "source": [
    "starttime=datetime.datetime.now()\n",
    "# Step 2: BRENDA kcat\n",
    "print(\"Starting to deal BRENDA textfile...\")\n",
    "parse_brenda_textfile(brenda_textfile_path, autopacmen_folder, brenda_json_path, brenda_json_path2) \n",
    "print(\"BRENDA textfile done!\")\n",
    "print()\n",
    "\n",
    "endtime=datetime.datetime.now()\n",
    "print(endtime-starttime)"
   ]
  },
  {
   "attachments": {},
   "cell_type": "markdown",
   "id": "aa91129b",
   "metadata": {},
   "source": [
    "## Step 3: Select Brenda kcat for model"
   ]
  },
  {
   "cell_type": "code",
   "execution_count": 5,
   "id": "ae1435ee",
   "metadata": {},
   "outputs": [
    {
     "name": "stdout",
     "output_type": "stream",
     "text": [
      "Starting to deal brenda json for model...\n",
      "BRENDA json for model done!\n",
      "\n",
      "0:00:04.686739\n"
     ]
    }
   ],
   "source": [
    "starttime=datetime.datetime.now()\n",
    "# Step 3: Select Brenda kcat for model\n",
    "print(\"Starting to deal brenda json for model...\")\n",
    "parse_brenda_json_for_model(sbml_path, brenda_json_path, brenda_output_json_path)\n",
    "print(\"BRENDA json for model done!\")\n",
    "print()\n",
    "\n",
    "endtime=datetime.datetime.now()\n",
    "print(endtime-starttime)"
   ]
  },
  {
   "attachments": {},
   "cell_type": "markdown",
   "id": "1f9674b3",
   "metadata": {},
   "source": [
    "## Step 4: SABIO-RK kcat for model"
   ]
  },
  {
   "cell_type": "code",
   "execution_count": 6,
   "id": "4eed4754",
   "metadata": {},
   "outputs": [
    {
     "name": "stdout",
     "output_type": "stream",
     "text": [
      "Starting EC numbers kcat search in SABIO-RK...\n",
      "SABIO-RK done!\n",
      "\n",
      "0:20:05.752679\n"
     ]
    }
   ],
   "source": [
    "starttime=datetime.datetime.now()\n",
    "# Step 4: SABIO-RK kcat for model\n",
    "print(\"Starting EC numbers kcat search in SABIO-RK...\")\n",
    "parse_sabio_rk_for_model_with_sbml(sbml_path, sabio_rk_json_path, bigg_id_name_mapping_path)\n",
    "print(\"SABIO-RK done!\")\n",
    "print()\n",
    "\n",
    "endtime=datetime.datetime.now()\n",
    "print(endtime-starttime)"
   ]
  },
  {
   "attachments": {},
   "cell_type": "markdown",
   "id": "ec9049b8",
   "metadata": {},
   "source": [
    "## Step 5: Brenda and SABIO-RK kcat combined"
   ]
  },
  {
   "cell_type": "code",
   "execution_count": 7,
   "id": "cd855ee9",
   "metadata": {},
   "outputs": [
    {
     "name": "stdout",
     "output_type": "stream",
     "text": [
      "Combining kcat database...\n",
      "Combining kcat database done!\n",
      "\n",
      "0:00:00.470836\n"
     ]
    }
   ],
   "source": [
    "starttime=datetime.datetime.now()\n",
    "# Step 5: Brenda and SABIO-RK kcat combined\n",
    "print(\"Combining kcat database...\")\n",
    "create_combined_kcat_database(sabio_rk_json_path, brenda_output_json_path, combined_output_path)\n",
    "print(\"Combining kcat database done!\")\n",
    "print()\n",
    "\n",
    "endtime=datetime.datetime.now()\n",
    "print(endtime-starttime)"
   ]
  },
  {
   "attachments": {},
   "cell_type": "markdown",
   "id": "4dfdc3a9",
   "metadata": {},
   "source": [
    "## Step 6: subunit number of each reaction"
   ]
  },
  {
   "cell_type": "code",
   "execution_count": 8,
   "id": "7fd8287b",
   "metadata": {},
   "outputs": [
    {
     "name": "stdout",
     "output_type": "stream",
     "text": [
      "Starting to fetch subunit number of each enzyme\n",
      "Calculation done!\n",
      "\n",
      "0:00:00.132096\n"
     ]
    }
   ],
   "source": [
    "starttime=datetime.datetime.now()\n",
    "# Step 6: subunit number of each reaction\n",
    "print(\"Starting to fetch subunit number of each enzyme\")\n",
    "if re.search('\\.xml',sbml_path):\n",
    "    model = cobra.io.read_sbml_model(sbml_path)\n",
    "elif re.search('\\.json',sbml_path):\n",
    "    model = cobra.io.json.load_json_model(sbml_path)\n",
    "get_gene_subunitDescription(sub_description_path,model)#从uniprot的api下载，运行一次就行\n",
    "subbnumdf = get_subunit_number(sub_description_path,gene_subnum_path)\n",
    "print(\"Calculation done!\")\n",
    "print()\n",
    "\n",
    "endtime=datetime.datetime.now()\n",
    "print(endtime-starttime)"
   ]
  },
  {
   "attachments": {},
   "cell_type": "markdown",
   "id": "26c69719",
   "metadata": {},
   "source": [
    "## Step 7: get mw for model gene (must be uniprot ID)"
   ]
  },
  {
   "cell_type": "code",
   "execution_count": 9,
   "id": "962c24ff",
   "metadata": {},
   "outputs": [
    {
     "name": "stdout",
     "output_type": "stream",
     "text": [
      "Starting UniProt ID<->Protein mass search using UniProt...\n",
      "Protein ID<->Mass mapping done!\n",
      "\n",
      "0:00:21.431180\n"
     ]
    }
   ],
   "source": [
    "starttime=datetime.datetime.now()\n",
    "# Step 7: get mw for model gene (must be uniprot ID)\n",
    "print(\"Starting UniProt ID<->Protein mass search using UniProt...\")\n",
    "get_protein_mass_mapping_from_local(sbml_path, autopacmen_folder, project_name, uniprot_data_file)\n",
    "get_reaction_mw(sbml_path,autopacmen_folder, project_name, reaction_mw_path, gene_subnum_path)\n",
    "print(\"Protein ID<->Mass mapping done!\")\n",
    "print()\n",
    "\n",
    "endtime=datetime.datetime.now()\n",
    "print(endtime-starttime)"
   ]
  },
  {
   "attachments": {},
   "cell_type": "markdown",
   "id": "b59a063e",
   "metadata": {},
   "source": [
    "## Step 8: kcat assignment for model(include sa)"
   ]
  },
  {
   "cell_type": "code",
   "execution_count": 10,
   "id": "ef4351da",
   "metadata": {},
   "outputs": [
    {
     "name": "stdout",
     "output_type": "stream",
     "text": [
      "Starting to assign kcat for model...\n",
      "kcat assignment done!\n",
      "\n",
      "0:00:09.861095\n"
     ]
    }
   ],
   "source": [
    "starttime=datetime.datetime.now()\n",
    "# Step 8: kcat assignment for model(include sa)\n",
    "print(\"Starting to assign kcat for model...\")\n",
    "get_reactions_kcat_mapping(sbml_path, autopacmen_folder, project_name, organism, combined_output_path,brenda_json_path2, reaction_mw_path,protein_kcat_database_path,kcat_gap_fill)\n",
    "print(\"kcat assignment done!\")\n",
    "print()\n",
    "\n",
    "endtime=datetime.datetime.now()\n",
    "print(endtime-starttime)"
   ]
  },
  {
   "attachments": {},
   "cell_type": "markdown",
   "id": "c5c671a0",
   "metadata": {},
   "source": [
    "## Step 9: get_reaction_kcat_mw for model"
   ]
  },
  {
   "cell_type": "code",
   "execution_count": 11,
   "id": "9fdc58c0",
   "metadata": {},
   "outputs": [
    {
     "name": "stdout",
     "output_type": "stream",
     "text": [
      "Starting to get reaction kcat_mw for model...\n",
      "Default kcat is: 112645.64147536599\n",
      "Reaction kcat_mw done!\n",
      "0:00:15.806192\n"
     ]
    }
   ],
   "source": [
    "starttime=datetime.datetime.now()\n",
    "# Step 9: get_reaction_kcat_mw for model\n",
    "print(\"Starting to get reaction kcat_mw for model...\")\n",
    "if re.search('\\.xml',sbml_path):\n",
    "    model = cobra.io.read_sbml_model(sbml_path)\n",
    "elif re.search('\\.json',sbml_path):\n",
    "    model = cobra.io.json.load_json_model(sbml_path)\n",
    "get_reaction_kcat_mw(model,autopacmen_folder, project_name, reaction_gap_fill,gene_subnum_path,reaction_kcat_mw_path)       \n",
    "print(\"Reaction kcat_mw done!\")\n",
    "\n",
    "endtime=datetime.datetime.now()\n",
    "print(endtime-starttime)"
   ]
  },
  {
   "cell_type": "code",
   "execution_count": null,
   "id": "fc9e33e3",
   "metadata": {},
   "outputs": [],
   "source": []
  }
 ],
 "metadata": {
  "kernelspec": {
   "display_name": "Python 3.8.13 ('autoETGEMs': conda)",
   "language": "python",
   "name": "python3"
  },
  "language_info": {
   "codemirror_mode": {
    "name": "ipython",
    "version": 3
   },
   "file_extension": ".py",
   "mimetype": "text/x-python",
   "name": "python",
   "nbconvert_exporter": "python",
   "pygments_lexer": "ipython3",
   "version": "3.7.12"
  },
  "vscode": {
   "interpreter": {
    "hash": "11d3440d622fa361831967a707ed07e2593b16f738f4ab3cb08e642e3674a510"
   }
  }
 },
 "nbformat": 4,
 "nbformat_minor": 5
}
