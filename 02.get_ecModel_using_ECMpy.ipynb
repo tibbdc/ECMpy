{
 "cells": [
  {
   "cell_type": "markdown",
   "id": "5d504f66",
   "metadata": {},
   "source": [
    "## Import related functions"
   ]
  },
  {
   "cell_type": "code",
   "execution_count": 1,
   "id": "e09f8bb6",
   "metadata": {},
   "outputs": [],
   "source": [
    "import cobra\n",
    "import re \n",
    "#from script.ECMpy_function import *\n",
    "import sys\n",
    "sys.path.append(r'./script/')\n",
    "from ECMpy_function import *"
   ]
  },
  {
   "cell_type": "markdown",
   "id": "eced66b0",
   "metadata": {},
   "source": [
    "## Input and output files"
   ]
  },
  {
   "cell_type": "code",
   "execution_count": 2,
   "id": "efb97ae1",
   "metadata": {},
   "outputs": [],
   "source": [
    "# reaction kcat_mw\n",
    "sbml_path = \"./data/iML1515R.xml\"\n",
    "taxonom_id=83333\n",
    "method='AutoPACMEN'#DLKcat\n",
    "reaction_kcat_MW_file = \"./analysis/get_kcat_mw_by_%s/reaction_kcat_MW.csv\"%method\n",
    "#paxdb丰度数据\n",
    "gene_abundance_colname='abundance'\n",
    "gene_abundance_file='./data/gene_abundance.csv' # downolad from https://pax-db.org/download\n",
    "#The enzyme mass fraction,such as 0.405\n",
    "#f=calculate_f_v2(sbml_path, gene_abundance_file,gene_abundance_colname,taxonom_id)\n",
    "f=0.405\n",
    "#Initial parameters\n",
    "ptot = 0.56 # The total protein fraction in cell.\n",
    "sigma = 1 # The approximated saturation of enzyme.e.g.,0.5/1.\n",
    "lowerbound = 0   # Lowerbound  of enzyme concentration constraint. \n",
    "upperbound = round(ptot * f * sigma, 3)#total enzyme\n",
    "ecModel_output_file=\"./model/iML1515_irr_enz_constraint.json\""
   ]
  },
  {
   "cell_type": "markdown",
   "id": "90648329",
   "metadata": {},
   "source": [
    "## Get ecModel and simulation"
   ]
  },
  {
   "cell_type": "code",
   "execution_count": 3,
   "id": "1aa03c90",
   "metadata": {},
   "outputs": [
    {
     "name": "stdout",
     "output_type": "stream",
     "text": [
      "0.1736430506243408\n"
     ]
    }
   ],
   "source": [
    "#Get ecModel\n",
    "trans_model2enz_json_model_split_isoenzyme(sbml_path, reaction_kcat_MW_file, f, ptot, sigma, lowerbound, upperbound, ecModel_output_file)\n",
    "\n",
    "#ecModel Simulation\n",
    "obj='BIOMASS_Ec_iML1515_core_75p37M'# CG_biomass_cgl_ATCC13032 EX_lys_L_e\n",
    "fluxes_outfile = './analysis/ECMpy_solution_%s_pfba.csv'%obj\n",
    "use_substrate='EX_glc__D_e'\n",
    "concentration=10\n",
    "enz_model=get_enzyme_constraint_model(ecModel_output_file)\n",
    "enz_model.objective=obj\n",
    "\n",
    "#change original substrate in model\n",
    "[ori_obj_id,ori_substrate_id_list,ori_sub_concentration,ori_ATPM]=get_model_substrate_obj(enz_model)\n",
    "for eachsubid in ori_substrate_id_list:\n",
    "    if re.search('_reverse',eachsubid):\n",
    "        r_id_new=eachsubid.split('_reverse')[0]\n",
    "        enz_model.reactions.get_by_id(eachsubid).bounds = (0, 0) \n",
    "        enz_model.reactions.get_by_id(r_id_new).bounds = (0, 0)  \n",
    "    else:\n",
    "        r_id_new=eachsubid+'_reverse'\n",
    "        enz_model.reactions.get_by_id(eachsubid).bounds = (0, 0) \n",
    "        enz_model.reactions.get_by_id(r_id_new).bounds = (0, 0) \n",
    "        \n",
    "enz_model.reactions.get_by_id(use_substrate).bounds = (-concentration, 0)\n",
    "enz_model.reactions.get_by_id(use_substrate+'_reverse').bounds = (0, 0)\n",
    "\n",
    "enz_model_pfba_solution = cobra.flux_analysis.pfba(enz_model)\n",
    "enz_model_pfba_solution = get_fluxes_detail_in_model(enz_model,enz_model_pfba_solution,fluxes_outfile,ecModel_output_file)\n",
    "print(enz_model_pfba_solution.fluxes[obj])"
   ]
  }
 ],
 "metadata": {
  "kernelspec": {
   "display_name": "Python 3 (ipykernel)",
   "language": "python",
   "name": "python3"
  },
  "language_info": {
   "codemirror_mode": {
    "name": "ipython",
    "version": 3
   },
   "file_extension": ".py",
   "mimetype": "text/x-python",
   "name": "python",
   "nbconvert_exporter": "python",
   "pygments_lexer": "ipython3",
   "version": "3.9.2"
  }
 },
 "nbformat": 4,
 "nbformat_minor": 5
}
