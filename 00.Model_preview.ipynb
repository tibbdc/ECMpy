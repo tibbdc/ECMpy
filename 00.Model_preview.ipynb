{
 "cells": [
  {
   "attachments": {},
   "cell_type": "markdown",
   "id": "65b519d7",
   "metadata": {},
   "source": [
    "# Import related functions"
   ]
  },
  {
   "cell_type": "code",
   "execution_count": 1,
   "id": "3130a9ae",
   "metadata": {},
   "outputs": [],
   "source": [
    "#from script.ECMpy_function import *\n",
    "import sys\n",
    "sys.path.append(r'./script/')\n",
    "from ECMpy_function import *"
   ]
  },
  {
   "cell_type": "code",
   "execution_count": 2,
   "id": "74dd01a6",
   "metadata": {},
   "outputs": [
    {
     "data": {
      "text/plain": [
       "'Suitable for constructing enzyme-bound models.'"
      ]
     },
     "execution_count": 2,
     "metadata": {},
     "output_type": "execute_result"
    }
   ],
   "source": [
    "model_file = \"./data/iML1515R.xml\"\n",
    "bigg_met_file = './data/bigg_models_metabolites.txt'\n",
    "\n",
    "Determine_suitable_ecGEM(model_file,bigg_met_file)"
   ]
  }
 ],
 "metadata": {
  "kernelspec": {
   "display_name": "Python 3.7.6 ('autoECMpy')",
   "language": "python",
   "name": "python3"
  },
  "language_info": {
   "codemirror_mode": {
    "name": "ipython",
    "version": 3
   },
   "file_extension": ".py",
   "mimetype": "text/x-python",
   "name": "python",
   "nbconvert_exporter": "python",
   "pygments_lexer": "ipython3",
   "version": "3.7.12"
  },
  "vscode": {
   "interpreter": {
    "hash": "a6e0d8b250351d3b30989470297d7a84ebc09417abaa29b208c8f69c53951b79"
   }
  }
 },
 "nbformat": 4,
 "nbformat_minor": 5
}
